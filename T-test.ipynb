{
 "cells": [
  {
   "cell_type": "markdown",
   "id": "5e480b07",
   "metadata": {},
   "source": [
    "### Load HR features"
   ]
  },
  {
   "cell_type": "markdown",
   "id": "08b8f6c3",
   "metadata": {},
   "source": [
    "Read HR features in *Sorted_feature* folder"
   ]
  },
  {
   "cell_type": "code",
   "execution_count": null,
   "id": "14ae8337",
   "metadata": {},
   "outputs": [],
   "source": [
    "import os\n",
    "import pandas as pd\n",
    "\n",
    "def read_data(method,second, ox):\n",
    "    df_raw=[]\n",
    "    ff_list=[]\n",
    "    toolnames=[\"Deepfake\",\"DeepFakeDetection\",\"Face2Face\",\"NeuralTextures\",\"FaceShifter\"]\n",
    "    i=0\n",
    "    basepath = './Sorted_feature/'\n",
    "    with os.scandir(basepath) as m_dirs:\n",
    "        # method\n",
    "        for m_dir in m_dirs:\n",
    "            if m_dir.is_dir() and method in m_dir.name:\n",
    "                next1path=basepath+m_dir.name+'/'\n",
    "                # second\n",
    "                with os.scandir(next1path) as dirs:\n",
    "                    for directory in dirs:\n",
    "                        if directory.is_dir() and second in directory.name:\n",
    "                            next2path=next1path+directory.name+'/'\n",
    "                            with os.scandir(next2path) as directory:\n",
    "                                # real or fake\n",
    "                                for real_fake_dir in directory:\n",
    "                                    if real_fake_dir.is_dir() and real_fake_dir.name == ox:\n",
    "                                        next3path = next2path+real_fake_dir.name+'/'\n",
    "                                        real_fake_name=real_fake_dir.name\n",
    "                                        # final file\n",
    "                                        with os.scandir(next3path) as real_fake_dir:\n",
    "                                            # k=[0,0,0]\n",
    "                                            allsum=0\n",
    "                                            for filename in real_fake_dir:\n",
    "                                                finalpath=next3path+filename.name\n",
    "                                                # fake \n",
    "                                                if \"fake\" in real_fake_name:\n",
    "                                                    df_raw.append(0) \n",
    "                                                    df=pd.read_excel(finalpath, engine='openpyxl') \n",
    "                                                    df_raw[i]=df\n",
    "                                                    i+=1\n",
    "                                                # real \n",
    "                                                else:\n",
    "                                                    df_raw.append(0)\n",
    "                                                    df=pd.read_excel(finalpath, engine='openpyxl')\n",
    "                                                    df_raw[i]=df \n",
    "                                                    i+=1\n",
    "\n",
    "    return df_raw"
   ]
  },
  {
   "cell_type": "code",
   "execution_count": null,
   "id": "abdb7ff1",
   "metadata": {},
   "outputs": [],
   "source": [
    "method=[\"CHROM\",\"GREEN\",\"ICA\",\"LGI\",\"PCA\", \"PBV\"]# \n",
    "second = [\"sec1_div\", \"sec1_avg\", \"sec01_div\", \"sec01_avg\", \"sec05_avg\", \"sec05_div\"]\n",
    "ox = [\"real\", \"fake\"]\n",
    "\n",
    "for n in method:\n",
    "    for i in second:\n",
    "        for j in ox:\n",
    "            globals()[n+'_'+j+'_'+i] = read_data(n,i, j)"
   ]
  },
  {
   "cell_type": "markdown",
   "id": "d924634a",
   "metadata": {},
   "source": [
    "Check whether the features have been loaded properly"
   ]
  },
  {
   "cell_type": "code",
   "execution_count": null,
   "id": "b205d9e1",
   "metadata": {},
   "outputs": [],
   "source": [
    "import numpy as np\n",
    "\n",
    "for n in method:\n",
    "  for i in second:\n",
    "    for j in ox:\n",
    "      if len(globals()[n+'_'+j+'_'+i])==0:\n",
    "        print('DataFrame is empty!')\n",
    "      else:\n",
    "        print(n+'_'+j+'_'+i+\" shape? \",np.shape(globals()[n+'_'+j+'_'+i]))"
   ]
  },
  {
   "cell_type": "markdown",
   "id": "744523ad",
   "metadata": {},
   "source": [
    "### T-test"
   ]
  },
  {
   "cell_type": "markdown",
   "id": "13501cb7",
   "metadata": {},
   "source": [
    "Conduct T-test"
   ]
  },
  {
   "cell_type": "code",
   "execution_count": null,
   "id": "5a914054",
   "metadata": {},
   "outputs": [],
   "source": [
    "import numpy as np\n",
    "import statsmodels.stats.api as sms\n",
    "from scipy.stats import ttest_ind, t\n",
    "from scipy import stats\n",
    "import scipy.stats as st\n",
    "import numpy as np, statsmodels.stats.api as sms"
   ]
  },
  {
   "cell_type": "code",
   "execution_count": null,
   "id": "b1792592",
   "metadata": {},
   "outputs": [],
   "source": [
    "def set_data(df,region_num,feature_num):\n",
    "    temp=[]\n",
    "    for i in range(82):\n",
    "        temp.append(df[i][region_num][feature_num])\n",
    "    return temp"
   ]
  },
  {
   "cell_type": "code",
   "execution_count": null,
   "id": "4365914d",
   "metadata": {},
   "outputs": [],
   "source": [
    "def RMSE(estimates, actual):\n",
    "    e2 = [(estimate-actual)**2 for estimate in estimates]\n",
    "    mse = np.mean(e2)\n",
    "    return np.sqrt(mse)"
   ]
  },
  {
   "cell_type": "code",
   "execution_count": null,
   "id": "07b05874",
   "metadata": {},
   "outputs": [],
   "source": [
    "def dist(x,y):\n",
    "    x=np.array((x))\n",
    "    y=np.array((y))\n",
    "    eucl=0\n",
    "    for i in range(len(x)):\n",
    "        dst=(x[i]-y[i])**2\n",
    "        eucl+=np.sqrt(dst)\n",
    "    return eucl"
   ]
  },
  {
   "cell_type": "code",
   "execution_count": null,
   "id": "5dad177a",
   "metadata": {},
   "outputs": [],
   "source": [
    "def ttest_table_RQ0(df_raw, df_fake, method, region_num,feature_num,second,feature,toolname=\"x\"):\n",
    "    data_raw=[]\n",
    "    data_fake=[]\n",
    "    ttest=[]\n",
    "    ttest.append(method)\n",
    "    ttest.append(second)\n",
    "    ttest.append(feature)\n",
    "    ttest.append(toolname)\n",
    "    ttest.append(region_num)\n",
    "    ttest.append(feature_num)\n",
    "    data_raw=set_data(df_raw, region_num,feature_num)\n",
    "    data_fake=set_data(df_fake, region_num,feature_num)\n",
    "    data=data_raw+data_fake\n",
    "    \n",
    "    print(data_raw)\n",
    "    print(data_fake)\n",
    "    \n",
    "    levene=stats.levene(data_raw,data_fake)\n",
    "    ttest.append(levene[0])\n",
    "    ttest.append(levene[1])\n",
    "\n",
    "    if levene[1]>0.05:\n",
    "        ttest.append(\"y\")\n",
    "        tt=ttest_ind(data_raw,data_fake,equal_var=\"True\")\n",
    "        ttest.append(tt[0]) \n",
    "        ttest.append(tt[1]) \n",
    "        MD=np.mean(data_raw)-np.mean(data_fake)\n",
    "        ttest.append(MD) \n",
    "        std1,std2=np.std(data_raw,ddof=1),np.std(data_fake,ddof=1)\n",
    "        se1=std1/np.sqrt(len(data_raw))\n",
    "        se2=std2/np.sqrt(len(data_fake))\n",
    "        sed=np.sqrt(se1**2.0+se2**2.0)\n",
    "        ttest.append(sed) \n",
    "        ttest.append(np.mean(data_raw)) \n",
    "        ttest.append(np.mean(data_fake))\n",
    "        s1= np.var(data_raw) \n",
    "        s2= np.var(data_fake) \n",
    "        ttest.append(s1)\n",
    "        ttest.append(s2)\n",
    "        n1= len(data_raw) \n",
    "        n2= len(data_fake) \n",
    "        var1= (s1*s1)/n1\n",
    "        var2= (s2*s2)/n2\n",
    "        div=((var1*var1)/(n1-1))+((var2*var2)/(n2-1))\n",
    "        d_f=(var1+var2)*(var1+var2) \n",
    "        d_f=d_f/div\n",
    "        g_d_f = len(data_raw)+len(data_fake)-2 \n",
    "        ttest.append(d_f) \n",
    "        alpha=0.05\n",
    "        cm=sms.CompareMeans(sms.DescrStatsW(data_raw), sms.DescrStatsW(data_fake))\n",
    "        conf=cm.tconfint_diff(usevar='unequal') \n",
    "        ttest.append(conf[0])\n",
    "        ttest.append(conf[1])\n",
    "        if tt[1]<=conf[0] and tt[1]>=conf[1]: \n",
    "            ttest.append(\"y\")\n",
    "        else:\n",
    "            ttest.append(\"n\")\n",
    "        ttest.append(dist(data_raw,data_fake))\n",
    "        return ttest\n",
    "    else: \n",
    "        ttest.append(\"n\")\n",
    "        tt=ttest_ind(data_raw,data_fake,equal_var=\"False\")\n",
    "        ttest.append(tt[0])\n",
    "        ttest.append(tt[1])\n",
    "        MD=np.mean(data_raw)-np.mean(data_fake)\n",
    "        ttest.append(MD)\n",
    "        std1,std2=np.std(data_raw,ddof=1),np.std(data_fake,ddof=1)\n",
    "        se1=std1/np.sqrt(len(data_raw))\n",
    "        se2=std2/np.sqrt(len(data_fake))\n",
    "        sed=np.sqrt(se1**2.0+se2**2.0)\n",
    "        ttest.append(sed)\n",
    "        ttest.append(np.mean(data_raw))\n",
    "        ttest.append(np.mean(data_fake))\n",
    "        s1= np.var(data_raw)\n",
    "        s2= np.var(data_fake)\n",
    "        ttest.append(s1)\n",
    "        ttest.append(s2)\n",
    "        n1= len(data_raw)\n",
    "        n2= len(data_fake)\n",
    "        var1= (s1*s1)/n1\n",
    "        var2= (s2*s2)/n2\n",
    "        div=((var1*var1)/(n1-1))+((var2*var2)/(n2-1))\n",
    "        d_f=(var1+var2)*(var1+var2)\n",
    "        d_f=d_f/div\n",
    "        g_d_f = len(data_raw)+len(data_fake)-2\n",
    "        ttest.append(d_f) \n",
    "        alpha=0.05\n",
    "        cm=sms.CompareMeans(sms.DescrStatsW(data_raw), sms.DescrStatsW(data_fake))\n",
    "        conf=cm.tconfint_diff(usevar='unequal')\n",
    "        ttest.append(conf[0])\n",
    "        ttest.append(conf[1])\n",
    "        if tt[1]<=conf[0] and tt[1]>=conf[1]:\n",
    "            ttest.append(\"y\")\n",
    "        else:\n",
    "            ttest.append(\"n\")\n",
    "        ttest.append(dist(data_raw,data_fake))\n",
    "        return ttest"
   ]
  },
  {
   "cell_type": "code",
   "execution_count": null,
   "id": "4051d6ab",
   "metadata": {},
   "outputs": [],
   "source": [
    "#RQ 0 - div\n",
    "second = [\"sec1\", \"sec01\",  \"sec05\"]\n",
    "method=[\"CHROM\",\"GREEN\",\"ICA\",\"LGI\",\"PBV\",\"PCA\"]\n",
    "ttest_all=[]\n",
    "PCA_real_sec1_div\n",
    "for n in method:\n",
    "  for i in second:\n",
    "    for l in range(0,9):\n",
    "      for k in range(0, 3):\n",
    "          print(\"- method: \",n, \", second:\",i,\" feature:\",k, \"region:\", l)\n",
    "          ttest=ttest_table_RQ0(globals()[n+'_'+'real'+'_'+i+'_'+\"div\"] , globals()[n+'_'+'fake'+'_'+i+'_'+\"div\"], n, l, k,i,\"div\")\n",
    "          ttest_all.append(ttest)"
   ]
  },
  {
   "cell_type": "code",
   "execution_count": null,
   "id": "5e47053e",
   "metadata": {},
   "outputs": [],
   "source": [
    "len(ttest_all)"
   ]
  },
  {
   "cell_type": "code",
   "execution_count": null,
   "id": "3f21faa3",
   "metadata": {},
   "outputs": [],
   "source": [
    "#RQ 0 - avg\n",
    "second = [\"sec1\", \"sec01\",  \"sec05\"]\n",
    "feature = ['avg'] #, 'div'\n",
    "method=[\"CHROM\",\"GREEN\",\"ICA\",\"LGI\",\"PBV\",\"PCA\"]\n",
    "\n",
    "for n in method:\n",
    "  for i in second:\n",
    "    for k in range(0, 3):\n",
    "      print(\"- method: \",n, \", second:\",i,\" feature:\",k)\n",
    "      ttest=ttest_table_RQ0(globals()[n+'_'+'real'+'_'+i+'_'+\"avg\"] , globals()[n+'_'+'fake'+'_'+i+'_'+\"avg\"], n, 0, k,i, \"avg\")\n",
    "      ttest_all.append(ttest)"
   ]
  },
  {
   "cell_type": "markdown",
   "id": "dc0baabc",
   "metadata": {},
   "source": [
    "Save results"
   ]
  },
  {
   "cell_type": "code",
   "execution_count": null,
   "id": "f92d9466",
   "metadata": {},
   "outputs": [],
   "source": [
    "# optimal Combination result \n",
    "import pandas as pd\n",
    "df=pd.DataFrame(ttest_all,columns=[\"method\",\"sec\", \"feature\", 'toolname','region_num',\t'feature_num', \"f\",\"Sig.\",\"Homogeneity of variance\",\"t\",\"Sig.(2-tailed)\",\"Mean Difference\",\"Std Error Difference\",\"real_mean\",\"fake_mean\",\"real_var\",\"fake_var\",\"df\",\"95% Conf(Lower)\",\"95% Conf(Upper)\",\"inConf\",\"Euclidean\"])\n",
    "df_ttest=df.drop(['toolname'],axis='columns')\n",
    "result_df=df_ttest[df_ttest['Sig.(2-tailed)']<0.05]\n",
    "result_df.to_csv('./t-test_result/optimal_combination_result.csv') \n",
    "result_df"
   ]
  },
  {
   "cell_type": "code",
   "execution_count": null,
   "id": "6c412d88",
   "metadata": {},
   "outputs": [],
   "source": [
    "# facial region result\n",
    "rq1_ttest=df_ttest[df_ttest['method']==\"GREEN\"]\n",
    "rq1_ttest=rq1_ttest[rq1_ttest['sec']==\"sec01\"]\n",
    "rq1_ttest=rq1_ttest[rq1_ttest['feature_num']==0]\n",
    "rq1_ttest=rq1_ttest.sort_values(by=['t'], axis=0, ascending=False)\n",
    "rq1_ttest"
   ]
  },
  {
   "cell_type": "code",
   "execution_count": null,
   "id": "38a671e4",
   "metadata": {},
   "outputs": [],
   "source": [
    "writer = pd.ExcelWriter('./t-test_result/facial_region_result.xlsx', engine='xlsxwriter')\n",
    "rq1_ttest.to_excel(writer, sheet_name = 't-test')\n",
    "writer.save()"
   ]
  },
  {
   "cell_type": "code",
   "execution_count": null,
   "id": "394cb2c7",
   "metadata": {},
   "outputs": [],
   "source": [
    "# extraction interval result\n",
    "rq2_ttest=df_ttest[df_ttest['method']==\"GREEN\"]\n",
    "rq2_ttest=rq2_ttest[rq2_ttest['feature']=='div']\n",
    "rq2_ttest=rq2_ttest[rq2_ttest['region_num']==4]\n",
    "rq2_ttest=rq2_ttest[rq2_ttest['feature_num']==0]\n",
    "rq2_ttest=rq2_ttest.sort_values(by=['t'], axis=0, ascending=False)\n",
    "rq2_ttest"
   ]
  },
  {
   "cell_type": "code",
   "execution_count": null,
   "id": "d9e2ab77",
   "metadata": {},
   "outputs": [],
   "source": [
    "rq2_writer = pd.ExcelWriter('./t-test_result/extraction_interval_result.xlsx', engine='xlsxwriter')\n",
    "rq2_ttest.to_excel(rq2_writer, sheet_name = 't-test')\n",
    "rq2_writer.save()"
   ]
  },
  {
   "cell_type": "code",
   "execution_count": null,
   "id": "d9f9d2c0",
   "metadata": {},
   "outputs": [],
   "source": [
    "# rPPG extraction method result\n",
    "rq3_ttest=df_ttest[df_ttest['sec']==\"sec01\"]\n",
    "rq3_ttest=rq3_ttest[rq3_ttest['feature']==\"div\"]\n",
    "rq3_ttest=rq3_ttest[rq3_ttest['region_num']==4]\n",
    "rq3_ttest=rq3_ttest[rq3_ttest['feature_num']==0]\n",
    "rq3_ttest=rq3_ttest.sort_values(by=['t'], axis=0, ascending=False)\n",
    "rq3_ttest"
   ]
  },
  {
   "cell_type": "code",
   "execution_count": null,
   "id": "5fa2e6c3",
   "metadata": {},
   "outputs": [],
   "source": [
    "rq3_writer = pd.ExcelWriter('./t-test_result/rPPG_extraction_method_result.xlsx', engine='xlsxwriter')\n",
    "rq3_ttest.to_excel(rq3_writer, sheet_name = 't-test')\n",
    "rq3_writer.save()"
   ]
  },
  {
   "cell_type": "code",
   "execution_count": null,
   "id": "f54d7215",
   "metadata": {},
   "outputs": [],
   "source": [
    "# feature engineering method result\n",
    "rq4_ttest=df_ttest[df_ttest['sec']=='sec01']\n",
    "rq4_ttest=rq4_ttest[rq4_ttest['feature']==\"div\"]\n",
    "rq4_ttest=rq4_ttest[rq4_ttest['region_num']==4]\n",
    "rq4_ttest=rq4_ttest[rq4_ttest['method']==\"GREEN\"]\n",
    "rq4_ttest=rq4_ttest.sort_values(by=['t'], axis=0, ascending=False)\n",
    "rq4_ttest"
   ]
  },
  {
   "cell_type": "code",
   "execution_count": null,
   "id": "0c760487",
   "metadata": {},
   "outputs": [],
   "source": [
    "writer = pd.ExcelWriter('./t-test_result/feature_engineering_method_result.xlsx', engine='xlsxwriter')\n",
    "rq4_ttest.to_excel(writer, sheet_name = 't-test')\n",
    "writer.save()"
   ]
  }
 ],
 "metadata": {
  "kernelspec": {
   "display_name": "Python 3",
   "language": "python",
   "name": "python3"
  },
  "language_info": {
   "codemirror_mode": {
    "name": "ipython",
    "version": 3
   },
   "file_extension": ".py",
   "mimetype": "text/x-python",
   "name": "python",
   "nbconvert_exporter": "python",
   "pygments_lexer": "ipython3",
   "version": "3.6.9"
  }
 },
 "nbformat": 4,
 "nbformat_minor": 5
}
